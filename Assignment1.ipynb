{
 "cells": [
  {
   "cell_type": "markdown",
   "metadata": {
    "id": "RKboZnAdgrRM"
   },
   "source": [
    "# [NLP] Assignment 1: Tokenization\n",
    "\n",
    "In this assignment, you need to tokenize the text of the Twitter(X) users posts(tweets). The assignment consists of two tasks. When you finish all the tasks, create a GitHub repository for this assignment (you can use this repo later for the other assignments) and submit this notebook in the repository. Leave `requirements.txt` file if your code requires additional installations. Submit the link to the repository in Moodle.\n",
    "\n",
    "The [data](https://drive.google.com/file/d/15x_wPAflvYQ2Xh38iNQGrqUIWLj5l5Nw/view?usp=share_link) contains 5 files whereby each contains 44 tweets. Each tweet is separated by a newline."
   ]
  },
  {
   "cell_type": "markdown",
   "metadata": {
    "id": "aLDjjAvemUP_"
   },
   "source": [
    "## Task 1. Tokenize some tweets manually (20 points)\n",
    "\n",
    "As a first task you need to tokenize first 15 tweets from `file2` by hand. This will allow you to understand the problem from a linguistic point of view. The guidelines for tweet tokenization are as follows:\n",
    "\n",
    "- Each smiley is a separate token\n",
    "- Each hashtag is an individual token. Each user reference is an individual token\n",
    "- If a word has spaces between them then it is converted to a single token\n",
    "- All punctuations are individual tokens. This includes double-quotes and single quotes also\n",
    "- A URL is a single token\n",
    "\n",
    "Example of output\n",
    "\n",
    "    Input tweet\n",
    "    @xfranman Old age has made N A T O!\n",
    "\n",
    "    Tokenized tweet (separated by comma)\n",
    "    @xfranman , Old , age , has , made , NATO , !"
   ]
  },
  {
   "cell_type": "markdown",
   "metadata": {
    "id": "7KKKwTidnzUw"
   },
   "source": [
    "\n",
    "    1. Input tweet\n",
    "    Camping in Maine for the weekend. Hey Dad, Mama Loves YOU: http://www.mamapalooza.com\n",
    "    1. Tokenized tweet\n",
    "    Camping , in , Maine , for , the , weekend , . , Hey , Dad , , , Mama , Loves , YOU , : , http://www.mamapalooza.com\n",
    "\n",
    "    2. Input tweet\n",
    "    Its american tradition bitch\n",
    "    2. Tokenized tweet\n",
    "    Its , american , tradition , bitch\n",
    "\n",
    "    3. Input tweet\n",
    "    @ThroughTheVoid They love it! The only pleasure they get in life. I actually do that. I'm sure I hear a tiny squeak... Then louder ones\n",
    "    3. Tokenized tweet\n",
    "    @ThroughTheVoid , They , love , it , ! , The , only , pleasure , they , get , in , life , . , I , actually , do , that , . , I , 'm , sure , I , hear , a , tiny , squeak , ... , Then , louder , ones\n",
    "\n",
    "    4. Input tweet\n",
    "    \" RT @latti: @AbsoHilare stop tweeting in church! Lol <--- \"\"I tweet because I'm happy, I tweet because I'm free\"\" LOL!\"\n",
    "    4. Tokenized tweet\n",
    "    \" , RT , @latti , : , @AbsoHilare , stop , tweeting , in , church , ! , Lol , <--- , \" , \" , I , tweet , because , I , 'm , happy , , , I , tweet , because , I , 'm , free , \" , \" , LOL , ! , \"\n",
    "\n",
    "    5. Input tweet\n",
    "    Samsung Mini S2 portable HDD graced with colors that perfectly match your tacky beach gear: Sammy's done it aga.. http://tinyurl.com/lb5p6m\n",
    "    5. Tokenized tweet\n",
    "    Samsung , Mini , S2 , portable , HDD , graced , with , colors , that , perfectly , match , your , tacky , beach , gear , : , Sammy , 's , done , it , aga , . , . , http://tinyurl.com/lb5p6m\n",
    "\n",
    "    6. Input tweet\n",
    "    @dialloc congrats on finding your way over. it may be slow going at first. hang in there. it's kinda cool when u get up to speed.\n",
    "    6. Tokenized tweet\n",
    "    @dialloc , congrats , on , finding , your , way , over , . , it , may , be , slow , going , at , first , . , hang , in , there , . , it , 's , kinda , cool , when , u , get , up , to , speed , .\n",
    "\n",
    "    7. Input tweet\n",
    "    iPhone activation delays continue, Apple offers $30 http://twt.gs/l3Ki\n",
    "    7. Tokenized tweet\n",
    "    iPhone , activation , delays , continue , , , Apple , offers , $30 , http://twt.gs/l3Ki\n",
    "\n",
    "    8. Input tweet\n",
    "    RT @GoogleAtWork Gmail maximum attachment size now 25MB http://bit.ly/62mjw Nice!!!\n",
    "    8. Tokenized tweet\n",
    "    RT , @GoogleAtWork , Gmail , maximum , attachment , size , now , 25MB , http://bit.ly/62mjw , Nice , ! , ! , !\n",
    "\n",
    "    9. Input tweet\n",
    "    RT @acfou The Ads Won Awards for Crispin; But Did Nothing for Client BurgerKing's Sales/Marketshare - Big Surprise - http://ping.fm/vw8TI\n",
    "    9. Tokenized tweet\n",
    "    RT , @acfou , The , Ads , Won , Awards , for , Crispin , ; , But , Did , Nothing , for , Client , BurgerKing ,'s , Sales , / , Marketshare , - , Big , Surprise , - , http://ping.fm/vw8TI\n",
    "\n",
    "    10. Input tweet\n",
    "    Hey doll! Great I missed True Blood yday boo lol Rt @FrankBanuat78 @jhillstephens Hello Sunshine how are u today? :-)\n",
    "    10. Tokenized tweet\n",
    "    Hey , doll , ! , Great , I , missed , True , Blood , yday , boo , lol , Rt , @FrankBanuat78 , @jhillstephens , Hello , Sunshine , how , are , u , today , ? , :-)\n",
    "\n",
    "    11. Input tweet\n",
    "    Australian artist Pogo made these free songs primarily from sampled audio from Alice In Wonderland. http://www.last.fm/music/Pogo/Wonderland\n",
    "    11. Tokenized tweet\n",
    "    Australian , artist , Pogo , made , these , free , songs , primarily , from , sampled , audio , from , Alice , In , Wonderland , . , http://www.last.fm/music/Pogo/Wonderland\n",
    "\n",
    "    12. Input tweet\n",
    "    @mppritchard they wanted to sell all the preorders & then sell all of the ones they had in stock to those that just walked in. Can't do both\n",
    "    12. Tokenized tweet\n",
    "    @mppritchard , they , wanted , to , sell , all , the , preorders , & , then , sell , all , of , the , ones , they , had , in , stock , to , those , that , just , walked , in , . , Can , 't , do , both\n",
    "\n",
    "    13. Input tweet\n",
    "    Incoming: Frightened Rabbit, Sept. 22 (Tucson): If Fat Cat Records is going to send three great bands from Scot.. http://tinyurl.com/nz6xcv\n",
    "    13. Tokenized tweet\n",
    "    Incoming , : , Frightened , Rabbit , , , Sept , . , 22 , ( , Tucson , ) , : , If , Fat , Cat , Records , is , going , to , send , three , great , bands , from , Scot , . , . , http://tinyurl.com/nz6xcv\n",
    "\n",
    "    14. Input tweet\n",
    "    Hey @ginoandfran please greet philip! (GinoandFran live > http://ustre.am/2YyQ)\n",
    "    14. Tokenized tweet\n",
    "    Hey , @ginoandfran , please , greet , philip , ! , ( , GinoandFran , live , > , http://ustre.am/2YyQ , )\n",
    "\n",
    "    15. Input tweet\n",
    "    Ik weet niet wie er achter de T-Mobile iPhone Twitter zit maar ik vind het niet echt 'corporate' taalgebruik... Best vreemd eigenlijk\n",
    "    15. Tokenized tweet\n",
    "    Ik , weet , niet , wie , er , achter , de , T-Mobile , iPhone , Twitter , zit , maar , ik , vind , het , niet , echt , ' , corporate , ' , taalgebruik , ... , Best , vreemd , eigenlijk"
   ]
  },
  {
   "cell_type": "markdown",
   "metadata": {
    "id": "-2J2AD2nmUhi"
   },
   "source": [
    "## Task 2. Implement [Byte-Pair Encoding(BPE)](https://arxiv.org/pdf/1508.07909.pdf) Tokenizer (80 points)\n",
    "\n",
    "### Task 2.1. Implementation (60 points)\n",
    "\n",
    "Implement the tokenizer as the BPETokenizer class:\n",
    "* Implement `train` method that learns merges and builds the vocabulary of the specified `vocab_size` (25 points).\n",
    "* Implement `tokenize` method that should tokenize the text according to the learnt merges (25 points).\n",
    "\n",
    "Your code should have docstrings and comments (10 points)."
   ]
  },
  {
   "cell_type": "code",
   "execution_count": 3,
   "outputs": [
    {
     "name": "stdout",
     "output_type": "stream",
     "text": [
      "file1\n",
      "file2\n",
      "file3\n",
      "file4\n",
      "file5\n",
      "220\n"
     ]
    }
   ],
   "source": [
    "files = [\"file\" + str(i) for i in range(1, 6)]\n",
    "corpus = []\n",
    "\n",
    "for i in files:\n",
    "    print(i)\n",
    "    with open(i, 'r', encoding=\"utf8\") as f:\n",
    "        data = f.read()\n",
    "        corpus += data.split('\\n')\n",
    "print(len(corpus))"
   ],
   "metadata": {
    "collapsed": false,
    "ExecuteTime": {
     "end_time": "2024-02-12T11:26:17.884782600Z",
     "start_time": "2024-02-12T11:26:17.868189100Z"
    }
   }
  },
  {
   "cell_type": "code",
   "execution_count": 12,
   "outputs": [],
   "source": [
    "# Did based on https://martinlwx.github.io/en/the-bpe-tokenizer/ and https://arxiv.org/pdf/1508.07909.pdf\n",
    "\n",
    "from collections import defaultdict, Counter\n",
    "import itertools\n",
    "class BPE:\n",
    "    def __init__(self, vocab_size):\n",
    "        self.vocab_size = vocab_size # Maximal vocabulary size\n",
    "        self.vocab = [] # our vocabulary\n",
    "        self.word_freq = Counter() # A list of all the words in the corpus. Counter is used to count them more conveniently\n",
    "        self.splits = {}\n",
    "        # Dict with pairs \"word -> array of current tokens for this word\"\n",
    "        # a. e. splits[\"Word\"] -> [\"W\", \"o\", \"r\", \"d\", \"</w>] before any merges\n",
    "\n",
    "        self.merges = []\n",
    "        # Array with all available merges in format \"merges[i] = [\"left_part\", \"right_part\"]. Needed for more conveniently tokenizing\n",
    "\n",
    "    def update_splits(self, left, right): # Update of current word splits\n",
    "        for word, word_split in self.splits.items():\n",
    "            new_split = []\n",
    "            cursor = 0 # Current position in word to check: there is available merge?\n",
    "            while cursor < len(word_split):\n",
    "                # Construct new split of word based on previous split and new merge if it is usable here\n",
    "                if word_split[cursor] == left and cursor + 1 < len(word_split) and word_split[cursor + 1] == right:\n",
    "                    new_split.append(left + right)\n",
    "                    cursor += 2\n",
    "                else:\n",
    "                    new_split.append(word_split[cursor])\n",
    "                    cursor += 1\n",
    "            self.splits[word] = new_split\n",
    "\n",
    "    def get_pairs_freq(self):\n",
    "        # Get frequency of each available merge\n",
    "        pairs_freq = defaultdict(int)\n",
    "\n",
    "        # Check every word and all neighbour tokens in it\n",
    "        for word, freq in self.word_freq.items():\n",
    "            split = self.splits[word]\n",
    "            for i in range(len(split)-1):\n",
    "                pairs_freq[(split[i], split[i + 1])] += freq\n",
    "        return pairs_freq\n",
    "\n",
    "    def train(self, corpus):\n",
    "        self.corpus = corpus\n",
    "\n",
    "        # Count words in corpus\n",
    "        word_freq_for_doc = [Counter(x.split()) for x in self.corpus]\n",
    "        self.word_freq = Counter()\n",
    "        for i in word_freq_for_doc:\n",
    "            self.word_freq.update(i)\n",
    "\n",
    "        # Construct initial alphabet\n",
    "        alphabet = set()\n",
    "        for word in self.word_freq:\n",
    "            self.splits[word] = list(word) + [\"</w>\"]\n",
    "            alphabet |= set(list(word))\n",
    "        alphabet.add(\"</w>\")\n",
    "\n",
    "        self.vocab = list(alphabet)\n",
    "\n",
    "        # Main training cycle\n",
    "        while len(self.vocab) < self.vocab_size:\n",
    "            # Get frequency of each symbol pairs\n",
    "            pair_freq = self.get_pairs_freq()\n",
    "\n",
    "            # For too big vocabulary size if we have not available merges\n",
    "            if len(pair_freq) == 0:\n",
    "                break\n",
    "\n",
    "            # Choose most frequent pair\n",
    "            pair = max(pair_freq, key=pair_freq.get)\n",
    "\n",
    "            # Update word splits\n",
    "            self.update_splits(pair[0], pair[1])\n",
    "\n",
    "            # Add new merge for tokenize stage\n",
    "            self.merges.append([pair[0], pair[1]])\n",
    "\n",
    "            # Update vocabulary\n",
    "            self.vocab.append(pair[0] + pair[1])\n",
    "\n",
    "\n",
    "    # Tokenize one doc (in our case - sentence) in text\n",
    "    def tokenize(self, s: str):\n",
    "\n",
    "        # Split words into initial position in doc for tokenizing\n",
    "        splits = [list(t) + [\"</w>\"] for t in s.split()]\n",
    "\n",
    "        # We use a list of merges, and at each iteration we apply this merge to all tokens in the text, forming new ones\n",
    "        for left, right in self.merges:\n",
    "            for idx, split in enumerate(splits):\n",
    "                new_split = []\n",
    "                cursor = 0\n",
    "                while cursor < len(split):\n",
    "                    if cursor + 1 < len(split) and split[cursor] == left and split[cursor + 1] == right:\n",
    "                        new_split.append(left + right)\n",
    "                        cursor += 2\n",
    "                    else:\n",
    "                        new_split.append(split[cursor])\n",
    "                        cursor += 1\n",
    "                splits[idx] = new_split\n",
    "\n",
    "        return list(itertools.chain(*splits))"
   ],
   "metadata": {
    "collapsed": false,
    "ExecuteTime": {
     "end_time": "2024-02-12T12:09:08.357936500Z",
     "start_time": "2024-02-12T12:09:08.302354200Z"
    }
   }
  },
  {
   "cell_type": "code",
   "execution_count": 13,
   "outputs": [
    {
     "data": {
      "text/plain": "['\"</w>',\n 'C',\n 'ould</w>',\n 'j',\n 'our',\n 'no',\n 's</w>',\n 'pleas',\n 'e</w>',\n 'stop</w>',\n 'pu',\n 'tt',\n 'ing</w>',\n 'the</w>',\n 'wor',\n 'd</w>',\n '\"\"',\n 'g',\n 'ate',\n '\"\"</w>',\n 'after</w>',\n 'ev',\n 'ery',\n 'thing</w>',\n 'they</w>',\n 'w',\n 'rit',\n 'e',\n '...</w>',\n 'g',\n 'ate',\n '.',\n '\"</w>']"
     },
     "execution_count": 13,
     "metadata": {},
     "output_type": "execute_result"
    }
   ],
   "source": [
    "bpe = BPE(vocab_size=1000)\n",
    "bpe.train(corpus)\n",
    "bpe.tokenize(corpus[1])"
   ],
   "metadata": {
    "collapsed": false,
    "ExecuteTime": {
     "end_time": "2024-02-12T12:09:28.962450800Z",
     "start_time": "2024-02-12T12:09:10.998252300Z"
    }
   }
  },
  {
   "cell_type": "markdown",
   "metadata": {},
   "source": [
    "### Task 2.2. Analysis on Tweets Dataset (10 points)\n",
    "\n",
    "Train the BPE tokenizer on the tweets dataset. Try to tokenize the tweets with the tokenizer of different `vocab_size`. For example, train the BPE tokenizer with `vocab_size` of [base_vocab_size, 250, 500, 750, 1000]. Plot the dependency of the average length of the tokenized tweet by `vocab_size` to analyze how `vocab_size` affects the length of the tokenized tweet on average. Tell what `vocab_size` is preferrable and why."
   ]
  },
  {
   "cell_type": "code",
   "execution_count": 111,
   "metadata": {
    "ExecuteTime": {
     "end_time": "2024-02-11T03:18:57.714735Z",
     "start_time": "2024-02-11T02:46:38.836174700Z"
    }
   },
   "outputs": [
    {
     "name": "stderr",
     "output_type": "stream",
     "text": [
      "100%|██████████| 200/200 [32:18<00:00,  9.69s/it]\n"
     ]
    }
   ],
   "source": [
    "\n",
    "from tqdm import tqdm\n",
    "vocab_sizes = [0, 250, 500, 750, 1000, 2000]\n",
    "\n",
    "y = []\n",
    "for i in tqdm(range(0, 2000, 10)):\n",
    "    bpe = BPE(vocab_size=i)\n",
    "    bpe.train(corpus)\n",
    "    tokenized = [bpe.tokenize(doc) for doc in corpus]\n",
    "    y.append(sum([len(x) for x in tokenized])/len(tokenized))\n",
    "x = range(0, 2000, 10)"
   ]
  },
  {
   "cell_type": "code",
   "execution_count": 117,
   "outputs": [
    {
     "data": {
      "text/plain": "[]"
     },
     "execution_count": 117,
     "metadata": {},
     "output_type": "execute_result"
    },
    {
     "data": {
      "text/plain": "<Figure size 640x480 with 1 Axes>",
      "image/png": "[encoded data removed]"
     },
     "metadata": {},
     "output_type": "display_data"
    }
   ],
   "source": [
    "import matplotlib.pyplot as plt\n",
    "plt.plot(x, y)\n",
    "plt.xlabel(\"vocab_size\")\n",
    "plt.ylabel(\"avg_token_for_tweet\")\n",
    "plt.plot()"
   ],
   "metadata": {
    "collapsed": false,
    "ExecuteTime": {
     "end_time": "2024-02-11T03:25:37.821748200Z",
     "start_time": "2024-02-11T03:25:37.575011400Z"
    }
   }
  },
  {
   "cell_type": "markdown",
   "source": [
    "Preferable vocab size like a 1600 tokens: there is an inflection here and the decrease in the number of tokens per tweet slows down significantly. Further increases will lead to increased computational costs without much improvement in results."
   ],
   "metadata": {
    "collapsed": false
   }
  },
  {
   "cell_type": "markdown",
   "metadata": {},
   "source": [
    "### Task 2.3. Analysis on Dataset of Different Language (10 points)\n",
    "\n",
    "Find a small dataset of texts in a language other than English. The dataset size should be not greater than several megabytes.\n",
    "\n",
    "Train the BPE tokenizer on the dataset that you found. Try to tokenize the sentences from this dataset with the tokenizer of different `vocab_size`. Plot the dependency of the average length of the tokenized sentence by `vocab_size` to analyze how `vocab_size` affects the length of the tokenized sentence on average.\n",
    "\n",
    "Tell how how the average length of the tokenized sentence differs from the average length of the tokenized tweet. Explain why. "
   ]
  },
  {
   "cell_type": "code",
   "execution_count": 15,
   "metadata": {
    "ExecuteTime": {
     "end_time": "2024-02-12T12:35:03.449355200Z",
     "start_time": "2024-02-12T12:22:53.307679500Z"
    }
   },
   "outputs": [
    {
     "name": "stdout",
     "output_type": "stream",
     "text": [
      "16.72077381546965\n",
      "10.218742716345353\n",
      "7.552508906869111\n",
      "6.670795458329171\n",
      "6.172143974960877\n"
     ]
    }
   ],
   "source": [
    "with open(\"Faust.txt\", 'r', encoding=\"utf8\") as f:\n",
    "    data = f.read()\n",
    "    corpus += data.split('\\n')\n",
    "\n",
    "y = []\n",
    "for i in [0, 250, 500, 750, 1000]:\n",
    "    bpe = BPE(vocab_size=i)\n",
    "    bpe.train(corpus)\n",
    "    tokenized = [bpe.tokenize(doc) for doc in corpus]\n",
    "    y.append(sum([len(x) for x in tokenized])/len(tokenized))\n",
    "    print(sum([len(x) for x in tokenized])/len(tokenized))\n"
   ]
  },
  {
   "cell_type": "code",
   "execution_count": 20,
   "outputs": [
    {
     "data": {
      "text/plain": "[]"
     },
     "execution_count": 20,
     "metadata": {},
     "output_type": "execute_result"
    },
    {
     "data": {
      "text/plain": "<Figure size 640x480 with 1 Axes>",
      "image/png": "[encoded data removed]"
     },
     "metadata": {},
     "output_type": "display_data"
    }
   ],
   "source": [
    "import matplotlib.pyplot as plt\n",
    "x = [0, 250, 500, 750, 1000]\n",
    "plt.plot(x, y)\n",
    "plt.xlabel(\"vocab_size\")\n",
    "plt.ylabel(\"avg_token_for_line\")\n",
    "plt.plot()"
   ],
   "metadata": {
    "collapsed": false,
    "ExecuteTime": {
     "end_time": "2024-02-12T12:46:47.238947200Z",
     "start_time": "2024-02-12T12:46:45.400080300Z"
    }
   }
  },
  {
   "cell_type": "markdown",
   "source": [
    "The number of tokens per offer differs significantly from the dataset with tweets. This is mainly due to the format of the play, which dictates short sentences in a dialogue format."
   ],
   "metadata": {
    "collapsed": false
   }
  }
 ],
 "metadata": {
  "colab": {
   "provenance": [],
   "toc_visible": true
  },
  "kernelspec": {
   "name": "python3",
   "language": "python",
   "display_name": "Python 3 (ipykernel2)"
  },
  "language_info": {
   "name": "python"
  }
 },
 "nbformat": 4,
 "nbformat_minor": 0
}
